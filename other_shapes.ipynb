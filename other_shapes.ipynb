{
 "cells": [
  {
   "cell_type": "code",
   "execution_count": 2,
   "metadata": {},
   "outputs": [],
   "source": [
    "import pandas as pd\n",
    "import numpy as np\n",
    "import matplotlib.pyplot as plt\n",
    "from scipy import signal"
   ]
  },
  {
   "cell_type": "code",
   "execution_count": 4,
   "metadata": {},
   "outputs": [
    {
     "data": {
      "application/vnd.microsoft.datawrangler.viewer.v0+json": {
       "columns": [
        {
         "name": "index",
         "rawType": "int64",
         "type": "integer"
        },
        {
         "name": "t [s]",
         "rawType": "float64",
         "type": "float"
        },
        {
         "name": "az NO FLAT [m/s2]",
         "rawType": "float64",
         "type": "float"
        },
        {
         "name": "az WITH FLAT [m/s2]",
         "rawType": "float64",
         "type": "float"
        }
       ],
       "conversionMethod": "pd.DataFrame",
       "ref": "432f3c2f-8c15-4c54-a107-70f3b54ce87e",
       "rows": [
        [
         "8996",
         "32.666",
         "-9.79901",
         "-9.653204"
        ],
        [
         "8997",
         "32.667",
         "-9.803764",
         "-9.650483"
        ],
        [
         "8998",
         "32.668",
         "-9.79866",
         "-9.654696"
        ],
        [
         "8999",
         "32.669",
         "-9.80368",
         "-9.652433"
        ],
        [
         "9000",
         "32.67",
         "-9.816648",
         "-9.695604"
        ]
       ],
       "shape": {
        "columns": 3,
        "rows": 5
       }
      },
      "text/html": [
       "<div>\n",
       "<style scoped>\n",
       "    .dataframe tbody tr th:only-of-type {\n",
       "        vertical-align: middle;\n",
       "    }\n",
       "\n",
       "    .dataframe tbody tr th {\n",
       "        vertical-align: top;\n",
       "    }\n",
       "\n",
       "    .dataframe thead th {\n",
       "        text-align: right;\n",
       "    }\n",
       "</style>\n",
       "<table border=\"1\" class=\"dataframe\">\n",
       "  <thead>\n",
       "    <tr style=\"text-align: right;\">\n",
       "      <th></th>\n",
       "      <th>t [s]</th>\n",
       "      <th>az NO FLAT [m/s2]</th>\n",
       "      <th>az WITH FLAT [m/s2]</th>\n",
       "    </tr>\n",
       "  </thead>\n",
       "  <tbody>\n",
       "    <tr>\n",
       "      <th>8996</th>\n",
       "      <td>32.666</td>\n",
       "      <td>-9.799010</td>\n",
       "      <td>-9.653204</td>\n",
       "    </tr>\n",
       "    <tr>\n",
       "      <th>8997</th>\n",
       "      <td>32.667</td>\n",
       "      <td>-9.803764</td>\n",
       "      <td>-9.650483</td>\n",
       "    </tr>\n",
       "    <tr>\n",
       "      <th>8998</th>\n",
       "      <td>32.668</td>\n",
       "      <td>-9.798660</td>\n",
       "      <td>-9.654696</td>\n",
       "    </tr>\n",
       "    <tr>\n",
       "      <th>8999</th>\n",
       "      <td>32.669</td>\n",
       "      <td>-9.803680</td>\n",
       "      <td>-9.652433</td>\n",
       "    </tr>\n",
       "    <tr>\n",
       "      <th>9000</th>\n",
       "      <td>32.670</td>\n",
       "      <td>-9.816648</td>\n",
       "      <td>-9.695604</td>\n",
       "    </tr>\n",
       "  </tbody>\n",
       "</table>\n",
       "</div>"
      ],
      "text/plain": [
       "       t [s]  az NO FLAT [m/s2]  az WITH FLAT [m/s2]\n",
       "8996  32.666          -9.799010            -9.653204\n",
       "8997  32.667          -9.803764            -9.650483\n",
       "8998  32.668          -9.798660            -9.654696\n",
       "8999  32.669          -9.803680            -9.652433\n",
       "9000  32.670          -9.816648            -9.695604"
      ]
     },
     "execution_count": 4,
     "metadata": {},
     "output_type": "execute_result"
    }
   ],
   "source": [
    "n1=pd.read_csv(\"data/Harmonic_n1_W1R_A001_VEL020_fs1000.csv\")\n",
    "n2=pd.read_csv(\"data/Harmonic_n2_W1R_A001_VEL020_fs1000.csv\")\n",
    "n3=pd.read_csv(\"data/Harmonic_n3_W1R_A001_VEL020_fs1000.csv\")\n",
    "\n",
    "Sx=(n1,n2,n3)\n",
    "Sx[0].tail()"
   ]
  },
  {
   "cell_type": "code",
   "execution_count": null,
   "metadata": {},
   "outputs": [],
   "source": []
  }
 ],
 "metadata": {
  "kernelspec": {
   "display_name": "flatW_env",
   "language": "python",
   "name": "python3"
  },
  "language_info": {
   "codemirror_mode": {
    "name": "ipython",
    "version": 3
   },
   "file_extension": ".py",
   "mimetype": "text/x-python",
   "name": "python",
   "nbconvert_exporter": "python",
   "pygments_lexer": "ipython3",
   "version": "3.10.12"
  }
 },
 "nbformat": 4,
 "nbformat_minor": 2
}
